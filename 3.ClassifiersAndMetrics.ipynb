{
 "cells": [
  {
   "cell_type": "markdown",
   "metadata": {},
   "source": [
    "# Classifiers"
   ]
  },
  {
   "cell_type": "code",
   "execution_count": 1,
   "metadata": {},
   "outputs": [],
   "source": [
    "import numpy as np\n",
    "import pandas as pd\n",
    "from tqdm import tqdm\n",
    "from sklearn.metrics import classification_report, confusion_matrix, recall_score\n",
    "from sklearn.metrics import f1_score, accuracy_score, precision_score, make_scorer\n",
    "\n",
    "from sklearn.preprocessing import StandardScaler\n",
    "from sklearn.model_selection import train_test_split\n",
    "\n",
    "#classifier methods\n",
    "from sklearn.linear_model import LogisticRegression\n",
    "from sklearn.svm import SVC\n",
    "from sklearn.tree import DecisionTreeClassifier\n",
    "from sklearn.neural_network import MLPClassifier\n",
    "from sklearn.model_selection import GridSearchCV"
   ]
  },
  {
   "cell_type": "code",
   "execution_count": 2,
   "metadata": {},
   "outputs": [],
   "source": [
    "#Read data from csv files\n",
    "x = pd.read_csv('/home/trabajo04/test_ypd/Datasets_features_removed/DrDoS_SSDP_features_removed.csv',engine=\"python\")\n",
    "y = pd.read_csv('/home/trabajo04/test_ypd/Datasets/DrDoS_SSDP_labels.csv',engine=\"python\")"
   ]
  },
  {
   "cell_type": "code",
   "execution_count": 3,
   "metadata": {},
   "outputs": [
    {
     "data": {
      "text/plain": [
       "<matplotlib.axes._subplots.AxesSubplot at 0x7f44f83e23d0>"
      ]
     },
     "execution_count": 3,
     "metadata": {},
     "output_type": "execute_result"
    },
    {
     "data": {
      "image/png": "[encoded data removed]",
      "text/plain": [
       "<Figure size 432x288 with 1 Axes>"
      ]
     },
     "metadata": {
      "needs_background": "light"
     },
     "output_type": "display_data"
    }
   ],
   "source": [
    "y = y['Label']\n",
    "y.hist()"
   ]
  },
  {
   "cell_type": "markdown",
   "metadata": {},
   "source": [
    "## Setup"
   ]
  },
  {
   "cell_type": "code",
   "execution_count": 4,
   "metadata": {},
   "outputs": [],
   "source": [
    "#A dictionary of classifiers is created\n",
    "#The key is the classifier name and the value is a list [Classifier,Parameters]\n",
    "dict_classifiers = {}\n",
    "\n",
    "dict_classifiers['SVM'] = [SVC(),\n",
    "                           {\n",
    "                              #'C': [1000,100,10,1,0.1,0.001,0.0001,0.00001], \n",
    "                              'kernel': ['rbf'],\n",
    "                              #'probability':[False,True]                               \n",
    "                            }\n",
    "                          ]\n",
    "\n",
    "\n",
    "dict_classifiers['LogisticRegression'] = [LogisticRegression(),\n",
    "                                               {\n",
    "                                                  'C': [0.001,0.0001,0.00001,0.000001,0.0000001], \n",
    "                                                  'solver': ['liblinear'],\n",
    "                                                 'penalty':['l1','l2']\n",
    "                                                 }\n",
    "                                         ]\n",
    "\n",
    "\n",
    "\n",
    "                                            \n",
    "dict_classifiers['DecisionTree'] = [DecisionTreeClassifier(),\n",
    "                                    {\n",
    "                                        'criterion': ['entropy', 'gini'],\n",
    "                                        'max_depth': [2, 3, 5, 10], \n",
    "                                        'min_samples_split': [2, 3],\n",
    "                                        'min_samples_leaf': [100,200,300]  \n",
    "                                    }\n",
    "                                   ]\n",
    "\n",
    "dict_MLPClassifierSSDP['MLPClassifier']=[MLPClassifier(hidden_layer_sizes=(38,2 )),\n",
    "                                   {\n",
    "                                       'alpha': [100,10,1,0.1,0.001]\n",
    "                                   }\n",
    "                                   \n",
    "                                  ]"
   ]
  },
  {
   "cell_type": "code",
   "execution_count": 5,
   "metadata": {},
   "outputs": [],
   "source": [
    "#Splitting dataset\n",
    "x_train_normal, x_test_normal, y_train_normal, y_test_normal = train_test_split(x, y, stratify=y, test_size=0.3, random_state=0)\n",
    "\n",
    "#Dataset is scaled to improve performance of several algorithms\n",
    "scaled_X = StandardScaler().fit_transform(x)\n",
    "\n",
    "#Splitting scaled dataset\n",
    "x_train_scaled, x_test_scaled, y_train_scaled, y_test_scaled = train_test_split(scaled_X, y, stratify=y, test_size=0.3, random_state=0)\n",
    "\n",
    "\n",
    "x_train = x_train_scaled.copy()\n",
    "y_train = y_train_scaled.copy()\n",
    "x_test = x_test_scaled.copy()\n",
    "y_test = y_test_scaled.copy()\n",
    "\n",
    "\n",
    "#Set number of folds for CV\n",
    "folds=5\n",
    "\n",
    "#Scoring to compare parameter combinations\n",
    "scorer = make_scorer(accuracy_score)\n",
    "\n",
    "#Resume of metrics for classifiers\n",
    "df_resume_clf=pd.DataFrame(columns=['Classifier','F1','Accuracy','Recall','Precision', 'Confusion_Matrix'])"
   ]
  },
  {
   "cell_type": "code",
   "execution_count": null,
   "metadata": {},
   "outputs": [
    {
     "name": "stderr",
     "output_type": "stream",
     "text": [
      "\r",
      "  0%|          | 0/7 [00:00<?, ?it/s]"
     ]
    },
    {
     "name": "stdout",
     "output_type": "stream",
     "text": [
      "Training SVM ....\n",
      "############| Start Training: SVM |############\n"
     ]
    }
   ],
   "source": [
    "for k, v in tqdm(dict_classifiers.items()):\n",
    "    classifier_name = k\n",
    "    classifier = v[0]\n",
    "    parameters = v[1]\n",
    "    print('Training {0} ....'.format(classifier_name))\n",
    "    print(\"#\" * 12 + '| Start Training: ' + classifier_name + ' |' + \"#\" * 12)\n",
    "    classification = None\n",
    "    confusion = None\n",
    "    \n",
    "        \n",
    "    #Grid search\n",
    "    grid_obj = GridSearchCV(classifier, parameters, cv=folds,scoring=scorer)\n",
    "    grid_obj = grid_obj.fit(x_train, y_train)\n",
    "    \n",
    "    #Selection of the best combination of parameters\n",
    "    best_clf = grid_obj.best_estimator_\n",
    "    best_params=grid_obj.best_params_\n",
    "\n",
    "    #Fit the best algorithm to the data. \n",
    "    best_clf.fit(x_train, y_train)\n",
    "    \n",
    "    #Getting the perdictions\n",
    "    predict = best_clf.predict(x_test)\n",
    "    \n",
    "    #Metrics\n",
    "    classification = classification_report(y_test, predict)\n",
    "    confusion = confusion_matrix(y_test,predict)\n",
    "    \n",
    "    # Accuracy\n",
    "    accuracy = round(accuracy_score(y_test, predict)*100,2)\n",
    "    \n",
    "    # Recall\n",
    "    recall = round(recall_score(y_test, predict, average='macro')*100,2)\n",
    "    \n",
    "    # Precision\n",
    "    precision = round(precision_score(y_test, predict, average='weighted')*100,2)\n",
    "    \n",
    "    # F1\n",
    "    f1 = round(f1_score(y_test, predict, average='weighted')*100,2)\n",
    "    \n",
    "    print('F1-score:        {0}%'.format(f1))\n",
    "    print('Accuracy:        {0}%'.format(accuracy))\n",
    "    print('Recall:          {0}%'.format(recall))\n",
    "    print('Precision:       {0}%'.format(precision))\n",
    "    print('Classification Report:\\n{0}'.format(classification))\n",
    "    print('Confusion Matrix:\\n{0}'.format(confusion))\n",
    "    print('Best parameters:\\n{0}'.format(best_params))\n",
    "    \n",
    "    print(\"#\" * 12 + '| End Model: ' + classifier_name + ' |' + \"#\" * 12)\n",
    "    \n",
    "    df_resume_clf=df_resume_clf.append({'Classifier':classifier_name,\n",
    "                                       'F1':f1,\n",
    "                                       'Accuracy':accuracy,\n",
    "                                       'Recall':recall,\n",
    "                                       'Precision':precision,\n",
    "                                       'Confusion_Matrix': confusion,\n",
    "                                       'Parameters': best_params\n",
    "                                       },\n",
    "                                       ignore_index=True)"
   ]
  },
  {
   "cell_type": "code",
   "execution_count": null,
   "metadata": {},
   "outputs": [],
   "source": [
    "df_resume_clf"
   ]
  },
  {
   "cell_type": "code",
   "execution_count": null,
   "metadata": {},
   "outputs": [],
   "source": [
    "df_resume_clf.sort_values(by='F1',inplace=True)"
   ]
  },
  {
   "cell_type": "code",
   "execution_count": null,
   "metadata": {},
   "outputs": [],
   "source": [
    "df_resume_clf.to_csv('/home/trabajo04/test_ypd/output/SSDP_output.csv', sep=';', encoding='utf-8',index=False)"
   ]
  },
  {
   "cell_type": "code",
   "execution_count": null,
   "metadata": {},
   "outputs": [],
   "source": []
  }
 ],
 "metadata": {
  "kernelspec": {
   "display_name": "Python 3",
   "language": "python",
   "name": "python3"
  },
  "language_info": {
   "codemirror_mode": {
    "name": "ipython",
    "version": 3
   },
   "file_extension": ".py",
   "mimetype": "text/x-python",
   "name": "python",
   "nbconvert_exporter": "python",
   "pygments_lexer": "ipython3",
   "version": "3.8.5"
  }
 },
 "nbformat": 4,
 "nbformat_minor": 4
}
