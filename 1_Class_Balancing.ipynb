{
 "cells": [
  {
   "cell_type": "code",
   "execution_count": 1,
   "metadata": {},
   "outputs": [
    {
     "data": {
      "text/plain": [
       "62"
      ]
     },
     "execution_count": 1,
     "metadata": {},
     "output_type": "execute_result"
    }
   ],
   "source": [
    "# Calling garbage collector\n",
    "import gc\n",
    "gc.collect()"
   ]
  },
  {
   "cell_type": "code",
   "execution_count": 2,
   "metadata": {},
   "outputs": [],
   "source": [
    "import pandas as pd\n",
    "from utils import *"
   ]
  },
  {
   "cell_type": "markdown",
   "metadata": {},
   "source": [
    "## Reading datasets"
   ]
  },
  {
   "cell_type": "code",
   "execution_count": 3,
   "metadata": {},
   "outputs": [],
   "source": [
    "#Read SSDP DDOS dataset\n",
    "ssdp_df = pd.read_csv('/home/trabajo04/test_ypd/01-12/DrDoS_SSDP.csv',engine=\"python\")"
   ]
  },
  {
   "cell_type": "code",
   "execution_count": 4,
   "metadata": {},
   "outputs": [],
   "source": [
    "#Read MSSQL DDOS dataset\n",
    "mssql_df =pd.read_csv('/home/trabajo04/test_ypd/01-12/DrDoS_MSSQL.csv',engine=\"python\")"
   ]
  },
  {
   "cell_type": "code",
   "execution_count": 6,
   "metadata": {},
   "outputs": [],
   "source": [
    "ddos_df = pd.concat([ssdp_df,mssql_df])\n",
    "del ssdp_df\n",
    "del mssql_df"
   ]
  },
  {
   "cell_type": "markdown",
   "metadata": {},
   "source": [
    "## Formatting datasets"
   ]
  },
  {
   "cell_type": "code",
   "execution_count": 7,
   "metadata": {},
   "outputs": [],
   "source": [
    "tcp_df = strip_columns(ddos_df)"
   ]
  },
  {
   "cell_type": "code",
   "execution_count": 8,
   "metadata": {},
   "outputs": [],
   "source": [
    "column_names = ['Flow ID', 'Unnamed: 0','Source IP','Destination IP','Destination Port','Timestamp','SimillarHTTP']\n",
    "tcp_df = remove_columns(tcp_df, column_names)"
   ]
  },
  {
   "cell_type": "code",
   "execution_count": 9,
   "metadata": {},
   "outputs": [],
   "source": [
    "tcp_df = tcp_df.dropna()"
   ]
  },
  {
   "cell_type": "code",
   "execution_count": 10,
   "metadata": {},
   "outputs": [],
   "source": [
    "column_names = ['Flow Bytes/s', 'Flow Packets/s']\n",
    "tcp_df = delete_inf_rows(tcp_df, column_names)"
   ]
  },
  {
   "cell_type": "code",
   "execution_count": 11,
   "metadata": {},
   "outputs": [
    {
     "name": "stdout",
     "output_type": "stream",
     "text": [
      "inf in flow bytes/s Counter({False: 6840207})\n",
      "inf in flow packet/s Counter({False: 6840207})\n"
     ]
    }
   ],
   "source": [
    "from collections import Counter\n",
    "print (\"inf in flow bytes/s\",Counter(tcp_df[\"Flow Bytes/s\"]==np.inf))\n",
    "print (\"inf in flow packet/s\",Counter(tcp_df[\"Flow Packets/s\"]==np.inf))"
   ]
  },
  {
   "cell_type": "markdown",
   "metadata": {},
   "source": [
    "## Undersampling"
   ]
  },
  {
   "cell_type": "code",
   "execution_count": 12,
   "metadata": {},
   "outputs": [],
   "source": [
    "y = tcp_df['Label'].copy()\n",
    "X = tcp_df\n",
    "del X['Label']"
   ]
  },
  {
   "cell_type": "code",
   "execution_count": 13,
   "metadata": {},
   "outputs": [
    {
     "data": {
      "text/plain": [
       "{'DrDoS_SSDP': 2482110, 'BENIGN': 2700, 'DrDoS_MSSQL': 4355397}"
      ]
     },
     "execution_count": 13,
     "metadata": {},
     "output_type": "execute_result"
    }
   ],
   "source": [
    "from collections import Counter\n",
    "counter  = dict(Counter(y))\n",
    "\n",
    "counter"
   ]
  },
  {
   "cell_type": "code",
   "execution_count": 14,
   "metadata": {},
   "outputs": [
    {
     "name": "stdout",
     "output_type": "stream",
     "text": [
      "Elapsed time:  46722.96402096748\n"
     ]
    }
   ],
   "source": [
    "import time\n",
    "\n",
    "start_time = time.time()\n",
    "\n",
    "\n",
    "X_ures, y_ures = undersampling(X, y, n_neighbors = 1)\n",
    "\n",
    "\n",
    "elapsed_time = time.time() - start_time\n",
    "\n",
    "print(\"Elapsed time: \", elapsed_time)"
   ]
  },
  {
   "cell_type": "code",
   "execution_count": null,
   "metadata": {},
   "outputs": [
    {
     "data": {
      "text/plain": [
       "Counter({'BENIGN': 2700, 'DrDoS_MSSQL': 3919725, 'DrDoS_SSDP': 1748538})"
      ]
     },
     "execution_count": 15,
     "metadata": {},
     "output_type": "execute_result"
    }
   ],
   "source": [
    "Counter(y_ures)"
   ]
  },
  {
   "cell_type": "code",
   "execution_count": null,
   "metadata": {},
   "outputs": [
    {
     "data": {
      "text/plain": [
       "<matplotlib.axes._subplots.AxesSubplot at 0x7f8570242eb0>"
      ]
     },
     "execution_count": 16,
     "metadata": {},
     "output_type": "execute_result"
    },
    {
     "data": {
      "image/png": "[encoded data removed]",
      "text/plain": [
       "<Figure size 432x288 with 1 Axes>"
      ]
     },
     "metadata": {
      "needs_background": "light"
     },
     "output_type": "display_data"
    }
   ],
   "source": [
    "y_ures.hist()"
   ]
  },
  {
   "cell_type": "markdown",
   "metadata": {},
   "source": [
    "## Oversampling"
   ]
  },
  {
   "cell_type": "code",
   "execution_count": null,
   "metadata": {},
   "outputs": [
    {
     "name": "stdout",
     "output_type": "stream",
     "text": [
      "Elapsed time:  3480.076376914978\n"
     ]
    }
   ],
   "source": [
    "import time\n",
    "\n",
    "start_time = time.time()\n",
    "X_ores, y_ores = oversampling(X_ures, y_ures) \n",
    "\n",
    "elapsed_time = time.time() - start_time\n",
    "\n",
    "print(\"Elapsed time: \", elapsed_time)"
   ]
  },
  {
   "cell_type": "code",
   "execution_count": null,
   "metadata": {},
   "outputs": [
    {
     "data": {
      "text/plain": [
       "{'BENIGN': 3919725, 'DrDoS_MSSQL': 3919725, 'DrDoS_SSDP': 3919725}"
      ]
     },
     "execution_count": 18,
     "metadata": {},
     "output_type": "execute_result"
    }
   ],
   "source": [
    "counter = dict(Counter(y_ores))\n",
    "counter"
   ]
  },
  {
   "cell_type": "code",
   "execution_count": null,
   "metadata": {},
   "outputs": [
    {
     "data": {
      "text/plain": [
       "<matplotlib.axes._subplots.AxesSubplot at 0x7f85825df1c0>"
      ]
     },
     "execution_count": 19,
     "metadata": {},
     "output_type": "execute_result"
    },
    {
     "data": {
      "image/png": "[encoded data removed]",
      "text/plain": [
       "<Figure size 432x288 with 1 Axes>"
      ]
     },
     "metadata": {
      "needs_background": "light"
     },
     "output_type": "display_data"
    }
   ],
   "source": [
    "y_ores.hist()"
   ]
  },
  {
   "cell_type": "markdown",
   "metadata": {},
   "source": [
    "## Saving datasets"
   ]
  },
  {
   "cell_type": "code",
   "execution_count": 21,
   "metadata": {},
   "outputs": [],
   "source": [
    "X_ores.to_csv('/home/trabajo04/test_ypd/Datasets/DrDoS_BOTH_features.csv', index=False)\n",
    "y_ores.to_csv('/home/trabajo04/test_ypd/Datasets/DrDoS_BOTH_labels.csv', index=False)"
   ]
  },
  {
   "cell_type": "code",
   "execution_count": 22,
   "metadata": {},
   "outputs": [
    {
     "name": "stdout",
     "output_type": "stream",
     "text": [
      "<class 'pandas.core.frame.DataFrame'>\n",
      "RangeIndex: 11759175 entries, 0 to 11759174\n",
      "Data columns (total 80 columns):\n",
      " #   Column                       Dtype  \n",
      "---  ------                       -----  \n",
      " 0   Source Port                  int64  \n",
      " 1   Protocol                     int64  \n",
      " 2   Flow Duration                int64  \n",
      " 3   Total Fwd Packets            int64  \n",
      " 4   Total Backward Packets       int64  \n",
      " 5   Total Length of Fwd Packets  float64\n",
      " 6   Total Length of Bwd Packets  float64\n",
      " 7   Fwd Packet Length Max        float64\n",
      " 8   Fwd Packet Length Min        float64\n",
      " 9   Fwd Packet Length Mean       float64\n",
      " 10  Fwd Packet Length Std        float64\n",
      " 11  Bwd Packet Length Max        float64\n",
      " 12  Bwd Packet Length Min        float64\n",
      " 13  Bwd Packet Length Mean       float64\n",
      " 14  Bwd Packet Length Std        float64\n",
      " 15  Flow Bytes/s                 float64\n",
      " 16  Flow Packets/s               float64\n",
      " 17  Flow IAT Mean                float64\n",
      " 18  Flow IAT Std                 float64\n",
      " 19  Flow IAT Max                 float64\n",
      " 20  Flow IAT Min                 float64\n",
      " 21  Fwd IAT Total                float64\n",
      " 22  Fwd IAT Mean                 float64\n",
      " 23  Fwd IAT Std                  float64\n",
      " 24  Fwd IAT Max                  float64\n",
      " 25  Fwd IAT Min                  float64\n",
      " 26  Bwd IAT Total                float64\n",
      " 27  Bwd IAT Mean                 float64\n",
      " 28  Bwd IAT Std                  float64\n",
      " 29  Bwd IAT Max                  float64\n",
      " 30  Bwd IAT Min                  float64\n",
      " 31  Fwd PSH Flags                int64  \n",
      " 32  Bwd PSH Flags                int64  \n",
      " 33  Fwd URG Flags                int64  \n",
      " 34  Bwd URG Flags                int64  \n",
      " 35  Fwd Header Length            int64  \n",
      " 36  Bwd Header Length            int64  \n",
      " 37  Fwd Packets/s                float64\n",
      " 38  Bwd Packets/s                float64\n",
      " 39  Min Packet Length            float64\n",
      " 40  Max Packet Length            float64\n",
      " 41  Packet Length Mean           float64\n",
      " 42  Packet Length Std            float64\n",
      " 43  Packet Length Variance       float64\n",
      " 44  FIN Flag Count               int64  \n",
      " 45  SYN Flag Count               int64  \n",
      " 46  RST Flag Count               int64  \n",
      " 47  PSH Flag Count               int64  \n",
      " 48  ACK Flag Count               int64  \n",
      " 49  URG Flag Count               int64  \n",
      " 50  CWE Flag Count               int64  \n",
      " 51  ECE Flag Count               int64  \n",
      " 52  Down/Up Ratio                float64\n",
      " 53  Average Packet Size          float64\n",
      " 54  Avg Fwd Segment Size         float64\n",
      " 55  Avg Bwd Segment Size         float64\n",
      " 56  Fwd Header Length.1          int64  \n",
      " 57  Fwd Avg Bytes/Bulk           int64  \n",
      " 58  Fwd Avg Packets/Bulk         int64  \n",
      " 59  Fwd Avg Bulk Rate            int64  \n",
      " 60  Bwd Avg Bytes/Bulk           int64  \n",
      " 61  Bwd Avg Packets/Bulk         int64  \n",
      " 62  Bwd Avg Bulk Rate            int64  \n",
      " 63  Subflow Fwd Packets          int64  \n",
      " 64  Subflow Fwd Bytes            int64  \n",
      " 65  Subflow Bwd Packets          int64  \n",
      " 66  Subflow Bwd Bytes            int64  \n",
      " 67  Init_Win_bytes_forward       int64  \n",
      " 68  Init_Win_bytes_backward      int64  \n",
      " 69  act_data_pkt_fwd             int64  \n",
      " 70  min_seg_size_forward         int64  \n",
      " 71  Active Mean                  float64\n",
      " 72  Active Std                   float64\n",
      " 73  Active Max                   float64\n",
      " 74  Active Min                   float64\n",
      " 75  Idle Mean                    float64\n",
      " 76  Idle Std                     float64\n",
      " 77  Idle Max                     float64\n",
      " 78  Idle Min                     float64\n",
      " 79  Inbound                      int64  \n",
      "dtypes: float64(45), int64(35)\n",
      "memory usage: 7.0 GB\n"
     ]
    }
   ],
   "source": [
    "X_ores.info()"
   ]
  },
  {
   "cell_type": "code",
   "execution_count": null,
   "metadata": {},
   "outputs": [],
   "source": []
  }
 ],
 "metadata": {
  "kernelspec": {
   "display_name": "Python 3",
   "language": "python",
   "name": "python3"
  },
  "language_info": {
   "codemirror_mode": {
    "name": "ipython",
    "version": 3
   },
   "file_extension": ".py",
   "mimetype": "text/x-python",
   "name": "python",
   "nbconvert_exporter": "python",
   "pygments_lexer": "ipython3",
   "version": "3.8.2"
  }
 },
 "nbformat": 4,
 "nbformat_minor": 4
}
